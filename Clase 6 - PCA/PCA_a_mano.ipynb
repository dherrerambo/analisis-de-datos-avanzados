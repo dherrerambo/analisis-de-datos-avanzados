{
 "cells": [
  {
   "cell_type": "code",
   "execution_count": 1,
   "id": "4ef31e5f-bed4-46ba-9a0f-8eb9e4148794",
   "metadata": {},
   "outputs": [],
   "source": [
    "import numpy as np\n",
    "import matplotlib.pyplot as plt\n",
    "import pandas as pd"
   ]
  },
  {
   "cell_type": "markdown",
   "id": "339b5a5f-7343-4967-938d-00813a382709",
   "metadata": {},
   "source": [
    "Digamos que tenemos los siguientes datos:"
   ]
  },
  {
   "cell_type": "code",
   "execution_count": 2,
   "id": "8026f50e-3f8a-4ca1-a4e3-b1249ccfa635",
   "metadata": {},
   "outputs": [],
   "source": [
    "X1 = np.array([2.5, 0.5, 2.2, 1.9, 3.1, 2.3, 2, 1, 1.5, 1.1])\n",
    "X2 = np.array([2.4, 0.7, 2.9, 2.2, 3.0, 2.7, 1.6, 1.1, 1.6, 0.9])\n",
    "X3 = np.array([1.1, 3.2, 1.2, 3.2, 2.9, 3.3, 2.9, 2.1, 2.5, 3.1])"
   ]
  },
  {
   "cell_type": "code",
   "execution_count": 3,
   "id": "6237958e-d8d9-4536-8c26-6c3b0cfc6f87",
   "metadata": {},
   "outputs": [
    {
     "data": {
      "text/html": [
       "<div>\n",
       "<style scoped>\n",
       "    .dataframe tbody tr th:only-of-type {\n",
       "        vertical-align: middle;\n",
       "    }\n",
       "\n",
       "    .dataframe tbody tr th {\n",
       "        vertical-align: top;\n",
       "    }\n",
       "\n",
       "    .dataframe thead th {\n",
       "        text-align: right;\n",
       "    }\n",
       "</style>\n",
       "<table border=\"1\" class=\"dataframe\">\n",
       "  <thead>\n",
       "    <tr style=\"text-align: right;\">\n",
       "      <th></th>\n",
       "      <th>0</th>\n",
       "      <th>1</th>\n",
       "      <th>2</th>\n",
       "    </tr>\n",
       "  </thead>\n",
       "  <tbody>\n",
       "    <tr>\n",
       "      <th>0</th>\n",
       "      <td>2.5</td>\n",
       "      <td>2.4</td>\n",
       "      <td>1.1</td>\n",
       "    </tr>\n",
       "    <tr>\n",
       "      <th>1</th>\n",
       "      <td>0.5</td>\n",
       "      <td>0.7</td>\n",
       "      <td>3.2</td>\n",
       "    </tr>\n",
       "    <tr>\n",
       "      <th>2</th>\n",
       "      <td>2.2</td>\n",
       "      <td>2.9</td>\n",
       "      <td>1.2</td>\n",
       "    </tr>\n",
       "    <tr>\n",
       "      <th>3</th>\n",
       "      <td>1.9</td>\n",
       "      <td>2.2</td>\n",
       "      <td>3.2</td>\n",
       "    </tr>\n",
       "    <tr>\n",
       "      <th>4</th>\n",
       "      <td>3.1</td>\n",
       "      <td>3.0</td>\n",
       "      <td>2.9</td>\n",
       "    </tr>\n",
       "    <tr>\n",
       "      <th>5</th>\n",
       "      <td>2.3</td>\n",
       "      <td>2.7</td>\n",
       "      <td>3.3</td>\n",
       "    </tr>\n",
       "    <tr>\n",
       "      <th>6</th>\n",
       "      <td>2.0</td>\n",
       "      <td>1.6</td>\n",
       "      <td>2.9</td>\n",
       "    </tr>\n",
       "    <tr>\n",
       "      <th>7</th>\n",
       "      <td>1.0</td>\n",
       "      <td>1.1</td>\n",
       "      <td>2.1</td>\n",
       "    </tr>\n",
       "    <tr>\n",
       "      <th>8</th>\n",
       "      <td>1.5</td>\n",
       "      <td>1.6</td>\n",
       "      <td>2.5</td>\n",
       "    </tr>\n",
       "    <tr>\n",
       "      <th>9</th>\n",
       "      <td>1.1</td>\n",
       "      <td>0.9</td>\n",
       "      <td>3.1</td>\n",
       "    </tr>\n",
       "  </tbody>\n",
       "</table>\n",
       "</div>"
      ],
      "text/plain": [
       "     0    1    2\n",
       "0  2.5  2.4  1.1\n",
       "1  0.5  0.7  3.2\n",
       "2  2.2  2.9  1.2\n",
       "3  1.9  2.2  3.2\n",
       "4  3.1  3.0  2.9\n",
       "5  2.3  2.7  3.3\n",
       "6  2.0  1.6  2.9\n",
       "7  1.0  1.1  2.1\n",
       "8  1.5  1.6  2.5\n",
       "9  1.1  0.9  3.1"
      ]
     },
     "execution_count": 3,
     "metadata": {},
     "output_type": "execute_result"
    }
   ],
   "source": [
    "pd.DataFrame(np.array([X1,X2,X3])).T"
   ]
  },
  {
   "cell_type": "markdown",
   "id": "80dde5bd-af78-4e8f-b82f-6030723d178a",
   "metadata": {},
   "source": [
    "Transformamos a datos centrados"
   ]
  },
  {
   "cell_type": "code",
   "execution_count": 4,
   "id": "c81298ab-edc1-4289-baba-b72475e29ca2",
   "metadata": {},
   "outputs": [],
   "source": [
    "X1_c,X2_c,X3_c=X1-X1.mean(),X2-X2.mean(),X3-X3.mean()"
   ]
  },
  {
   "cell_type": "code",
   "execution_count": 5,
   "id": "89143faf-0eec-4515-8bfe-080c7204f907",
   "metadata": {},
   "outputs": [
    {
     "data": {
      "text/plain": [
       "array([ 0.69, -1.31,  0.39,  0.09,  1.29,  0.49,  0.19, -0.81, -0.31,\n",
       "       -0.71])"
      ]
     },
     "execution_count": 5,
     "metadata": {},
     "output_type": "execute_result"
    }
   ],
   "source": [
    "X1_c"
   ]
  },
  {
   "cell_type": "code",
   "execution_count": 6,
   "id": "f103c6a5-345c-450d-9303-25fd6719598b",
   "metadata": {},
   "outputs": [],
   "source": [
    "matrix=np.array([X1_c,X2_c,X3_c])"
   ]
  },
  {
   "cell_type": "code",
   "execution_count": 7,
   "id": "5fc9dbde-2818-42db-890d-56cee978d346",
   "metadata": {},
   "outputs": [
    {
     "data": {
      "text/html": [
       "<div>\n",
       "<style scoped>\n",
       "    .dataframe tbody tr th:only-of-type {\n",
       "        vertical-align: middle;\n",
       "    }\n",
       "\n",
       "    .dataframe tbody tr th {\n",
       "        vertical-align: top;\n",
       "    }\n",
       "\n",
       "    .dataframe thead th {\n",
       "        text-align: right;\n",
       "    }\n",
       "</style>\n",
       "<table border=\"1\" class=\"dataframe\">\n",
       "  <thead>\n",
       "    <tr style=\"text-align: right;\">\n",
       "      <th></th>\n",
       "      <th>0</th>\n",
       "      <th>1</th>\n",
       "      <th>2</th>\n",
       "    </tr>\n",
       "  </thead>\n",
       "  <tbody>\n",
       "    <tr>\n",
       "      <th>0</th>\n",
       "      <td>0.69</td>\n",
       "      <td>0.49</td>\n",
       "      <td>-1.45</td>\n",
       "    </tr>\n",
       "    <tr>\n",
       "      <th>1</th>\n",
       "      <td>-1.31</td>\n",
       "      <td>-1.21</td>\n",
       "      <td>0.65</td>\n",
       "    </tr>\n",
       "    <tr>\n",
       "      <th>2</th>\n",
       "      <td>0.39</td>\n",
       "      <td>0.99</td>\n",
       "      <td>-1.35</td>\n",
       "    </tr>\n",
       "    <tr>\n",
       "      <th>3</th>\n",
       "      <td>0.09</td>\n",
       "      <td>0.29</td>\n",
       "      <td>0.65</td>\n",
       "    </tr>\n",
       "    <tr>\n",
       "      <th>4</th>\n",
       "      <td>1.29</td>\n",
       "      <td>1.09</td>\n",
       "      <td>0.35</td>\n",
       "    </tr>\n",
       "    <tr>\n",
       "      <th>5</th>\n",
       "      <td>0.49</td>\n",
       "      <td>0.79</td>\n",
       "      <td>0.75</td>\n",
       "    </tr>\n",
       "    <tr>\n",
       "      <th>6</th>\n",
       "      <td>0.19</td>\n",
       "      <td>-0.31</td>\n",
       "      <td>0.35</td>\n",
       "    </tr>\n",
       "    <tr>\n",
       "      <th>7</th>\n",
       "      <td>-0.81</td>\n",
       "      <td>-0.81</td>\n",
       "      <td>-0.45</td>\n",
       "    </tr>\n",
       "    <tr>\n",
       "      <th>8</th>\n",
       "      <td>-0.31</td>\n",
       "      <td>-0.31</td>\n",
       "      <td>-0.05</td>\n",
       "    </tr>\n",
       "    <tr>\n",
       "      <th>9</th>\n",
       "      <td>-0.71</td>\n",
       "      <td>-1.01</td>\n",
       "      <td>0.55</td>\n",
       "    </tr>\n",
       "  </tbody>\n",
       "</table>\n",
       "</div>"
      ],
      "text/plain": [
       "      0     1     2\n",
       "0  0.69  0.49 -1.45\n",
       "1 -1.31 -1.21  0.65\n",
       "2  0.39  0.99 -1.35\n",
       "3  0.09  0.29  0.65\n",
       "4  1.29  1.09  0.35\n",
       "5  0.49  0.79  0.75\n",
       "6  0.19 -0.31  0.35\n",
       "7 -0.81 -0.81 -0.45\n",
       "8 -0.31 -0.31 -0.05\n",
       "9 -0.71 -1.01  0.55"
      ]
     },
     "execution_count": 7,
     "metadata": {},
     "output_type": "execute_result"
    }
   ],
   "source": [
    "pd.DataFrame(matrix).T"
   ]
  },
  {
   "cell_type": "markdown",
   "id": "73762411-b6aa-47ac-8096-8d3f30b36573",
   "metadata": {},
   "source": [
    "calculamos la matriz de covarianza"
   ]
  },
  {
   "cell_type": "code",
   "execution_count": 8,
   "id": "2d6ff0db-eff5-4d2a-9904-6adda97355c0",
   "metadata": {},
   "outputs": [],
   "source": [
    "cov_matrix=np.cov(matrix)"
   ]
  },
  {
   "cell_type": "code",
   "execution_count": 9,
   "id": "4996cb30-5444-42cf-94cd-137c60e46b3c",
   "metadata": {},
   "outputs": [
    {
     "data": {
      "text/html": [
       "<div>\n",
       "<style scoped>\n",
       "    .dataframe tbody tr th:only-of-type {\n",
       "        vertical-align: middle;\n",
       "    }\n",
       "\n",
       "    .dataframe tbody tr th {\n",
       "        vertical-align: top;\n",
       "    }\n",
       "\n",
       "    .dataframe thead th {\n",
       "        text-align: right;\n",
       "    }\n",
       "</style>\n",
       "<table border=\"1\" class=\"dataframe\">\n",
       "  <thead>\n",
       "    <tr style=\"text-align: right;\">\n",
       "      <th></th>\n",
       "      <th>0</th>\n",
       "      <th>1</th>\n",
       "      <th>2</th>\n",
       "    </tr>\n",
       "  </thead>\n",
       "  <tbody>\n",
       "    <tr>\n",
       "      <th>0</th>\n",
       "      <td>0.616556</td>\n",
       "      <td>0.615444</td>\n",
       "      <td>-0.160556</td>\n",
       "    </tr>\n",
       "    <tr>\n",
       "      <th>1</th>\n",
       "      <td>0.615444</td>\n",
       "      <td>0.716556</td>\n",
       "      <td>-0.217222</td>\n",
       "    </tr>\n",
       "    <tr>\n",
       "      <th>2</th>\n",
       "      <td>-0.160556</td>\n",
       "      <td>-0.217222</td>\n",
       "      <td>0.676111</td>\n",
       "    </tr>\n",
       "  </tbody>\n",
       "</table>\n",
       "</div>"
      ],
      "text/plain": [
       "          0         1         2\n",
       "0  0.616556  0.615444 -0.160556\n",
       "1  0.615444  0.716556 -0.217222\n",
       "2 -0.160556 -0.217222  0.676111"
      ]
     },
     "execution_count": 9,
     "metadata": {},
     "output_type": "execute_result"
    }
   ],
   "source": [
    "pd.DataFrame(cov_matrix)"
   ]
  },
  {
   "cell_type": "markdown",
   "id": "56a902fa-a661-41aa-9a89-614f7928554c",
   "metadata": {},
   "source": [
    "Ahora calculamos los autovalores y autovectores"
   ]
  },
  {
   "cell_type": "code",
   "execution_count": 10,
   "id": "ad7b3e4c-07d1-4a7c-a7f6-db70fee24dc5",
   "metadata": {},
   "outputs": [],
   "source": [
    "from numpy import linalg as LA"
   ]
  },
  {
   "cell_type": "code",
   "execution_count": 11,
   "id": "bbc2fed4-73cc-4c73-8ad1-2c5cfb9516fd",
   "metadata": {},
   "outputs": [],
   "source": [
    "w, v = LA.eig(cov_matrix)"
   ]
  },
  {
   "cell_type": "code",
   "execution_count": 12,
   "id": "24261541-0340-4581-acd0-cf68b118ac8c",
   "metadata": {},
   "outputs": [
    {
     "data": {
      "text/html": [
       "<div>\n",
       "<style scoped>\n",
       "    .dataframe tbody tr th:only-of-type {\n",
       "        vertical-align: middle;\n",
       "    }\n",
       "\n",
       "    .dataframe tbody tr th {\n",
       "        vertical-align: top;\n",
       "    }\n",
       "\n",
       "    .dataframe thead th {\n",
       "        text-align: right;\n",
       "    }\n",
       "</style>\n",
       "<table border=\"1\" class=\"dataframe\">\n",
       "  <thead>\n",
       "    <tr style=\"text-align: right;\">\n",
       "      <th></th>\n",
       "      <th>0</th>\n",
       "    </tr>\n",
       "  </thead>\n",
       "  <tbody>\n",
       "    <tr>\n",
       "      <th>0</th>\n",
       "      <td>1.385737</td>\n",
       "    </tr>\n",
       "    <tr>\n",
       "      <th>1</th>\n",
       "      <td>0.047587</td>\n",
       "    </tr>\n",
       "    <tr>\n",
       "      <th>2</th>\n",
       "      <td>0.575899</td>\n",
       "    </tr>\n",
       "  </tbody>\n",
       "</table>\n",
       "</div>"
      ],
      "text/plain": [
       "          0\n",
       "0  1.385737\n",
       "1  0.047587\n",
       "2  0.575899"
      ]
     },
     "execution_count": 12,
     "metadata": {},
     "output_type": "execute_result"
    }
   ],
   "source": [
    "pd.DataFrame(w)"
   ]
  },
  {
   "cell_type": "code",
   "execution_count": 13,
   "id": "c2a6b92d-1205-41cc-be07-6923b96d29e4",
   "metadata": {},
   "outputs": [
    {
     "data": {
      "text/html": [
       "<div>\n",
       "<style scoped>\n",
       "    .dataframe tbody tr th:only-of-type {\n",
       "        vertical-align: middle;\n",
       "    }\n",
       "\n",
       "    .dataframe tbody tr th {\n",
       "        vertical-align: top;\n",
       "    }\n",
       "\n",
       "    .dataframe thead th {\n",
       "        text-align: right;\n",
       "    }\n",
       "</style>\n",
       "<table border=\"1\" class=\"dataframe\">\n",
       "  <thead>\n",
       "    <tr style=\"text-align: right;\">\n",
       "      <th></th>\n",
       "      <th>0</th>\n",
       "      <th>1</th>\n",
       "      <th>2</th>\n",
       "    </tr>\n",
       "  </thead>\n",
       "  <tbody>\n",
       "    <tr>\n",
       "      <th>0</th>\n",
       "      <td>-0.628216</td>\n",
       "      <td>-0.726638</td>\n",
       "      <td>0.278102</td>\n",
       "    </tr>\n",
       "    <tr>\n",
       "      <th>1</th>\n",
       "      <td>-0.692743</td>\n",
       "      <td>0.685113</td>\n",
       "      <td>0.225229</td>\n",
       "    </tr>\n",
       "    <tr>\n",
       "      <th>2</th>\n",
       "      <td>0.354191</td>\n",
       "      <td>0.051161</td>\n",
       "      <td>0.933773</td>\n",
       "    </tr>\n",
       "  </tbody>\n",
       "</table>\n",
       "</div>"
      ],
      "text/plain": [
       "          0         1         2\n",
       "0 -0.628216 -0.726638  0.278102\n",
       "1 -0.692743  0.685113  0.225229\n",
       "2  0.354191  0.051161  0.933773"
      ]
     },
     "execution_count": 13,
     "metadata": {},
     "output_type": "execute_result"
    }
   ],
   "source": [
    "pd.DataFrame(v)"
   ]
  },
  {
   "cell_type": "code",
   "execution_count": 14,
   "id": "1bc378c8-2d31-4791-84f9-3f4eab0f23e2",
   "metadata": {},
   "outputs": [
    {
     "data": {
      "text/html": [
       "<div>\n",
       "<style scoped>\n",
       "    .dataframe tbody tr th:only-of-type {\n",
       "        vertical-align: middle;\n",
       "    }\n",
       "\n",
       "    .dataframe tbody tr th {\n",
       "        vertical-align: top;\n",
       "    }\n",
       "\n",
       "    .dataframe thead th {\n",
       "        text-align: right;\n",
       "    }\n",
       "</style>\n",
       "<table border=\"1\" class=\"dataframe\">\n",
       "  <thead>\n",
       "    <tr style=\"text-align: right;\">\n",
       "      <th></th>\n",
       "      <th>0</th>\n",
       "      <th>1</th>\n",
       "      <th>2</th>\n",
       "    </tr>\n",
       "  </thead>\n",
       "  <tbody>\n",
       "    <tr>\n",
       "      <th>0</th>\n",
       "      <td>-1.192770</td>\n",
       "      <td>-0.468869</td>\n",
       "      <td>-1.084510</td>\n",
       "    </tr>\n",
       "    <tr>\n",
       "      <th>1</th>\n",
       "      <td>1.882962</td>\n",
       "      <td>0.224906</td>\n",
       "      <td>0.081058</td>\n",
       "    </tr>\n",
       "    <tr>\n",
       "      <th>2</th>\n",
       "      <td>-1.339814</td>\n",
       "      <td>0.104033</td>\n",
       "      <td>-1.071809</td>\n",
       "    </tr>\n",
       "    <tr>\n",
       "      <th>3</th>\n",
       "      <td>-0.086498</td>\n",
       "      <td>0.282734</td>\n",
       "      <td>0.653666</td>\n",
       "    </tr>\n",
       "    <tr>\n",
       "      <th>4</th>\n",
       "      <td>-1.505099</td>\n",
       "      <td>-0.068036</td>\n",
       "      <td>0.839492</td>\n",
       "    </tr>\n",
       "    <tr>\n",
       "      <th>5</th>\n",
       "      <td>-0.673294</td>\n",
       "      <td>0.370716</td>\n",
       "      <td>0.914300</td>\n",
       "    </tr>\n",
       "    <tr>\n",
       "      <th>6</th>\n",
       "      <td>0.203232</td>\n",
       "      <td>-0.265176</td>\n",
       "      <td>0.378257</td>\n",
       "    </tr>\n",
       "    <tr>\n",
       "      <th>7</th>\n",
       "      <td>0.972287</td>\n",
       "      <td>-0.095172</td>\n",
       "      <td>-0.748533</td>\n",
       "    </tr>\n",
       "    <tr>\n",
       "      <th>8</th>\n",
       "      <td>0.406100</td>\n",
       "      <td>-0.008896</td>\n",
       "      <td>-0.172348</td>\n",
       "    </tr>\n",
       "    <tr>\n",
       "      <th>9</th>\n",
       "      <td>1.332895</td>\n",
       "      <td>-0.076240</td>\n",
       "      <td>0.210427</td>\n",
       "    </tr>\n",
       "  </tbody>\n",
       "</table>\n",
       "</div>"
      ],
      "text/plain": [
       "          0         1         2\n",
       "0 -1.192770 -0.468869 -1.084510\n",
       "1  1.882962  0.224906  0.081058\n",
       "2 -1.339814  0.104033 -1.071809\n",
       "3 -0.086498  0.282734  0.653666\n",
       "4 -1.505099 -0.068036  0.839492\n",
       "5 -0.673294  0.370716  0.914300\n",
       "6  0.203232 -0.265176  0.378257\n",
       "7  0.972287 -0.095172 -0.748533\n",
       "8  0.406100 -0.008896 -0.172348\n",
       "9  1.332895 -0.076240  0.210427"
      ]
     },
     "execution_count": 14,
     "metadata": {},
     "output_type": "execute_result"
    }
   ],
   "source": [
    "pd.DataFrame(np.dot(v,matrix)).T"
   ]
  },
  {
   "cell_type": "markdown",
   "id": "b84ca5f4-2e12-46be-9e06-35427c00e26b",
   "metadata": {},
   "source": [
    "Aqui hay un código en R para hacer lo mismo anterior: https://www.cienciadedatos.net/documentos/35_principal_component_analysis"
   ]
  },
  {
   "cell_type": "code",
   "execution_count": null,
   "id": "1a84dd85-46b0-415c-a228-73cf711b16cf",
   "metadata": {},
   "outputs": [],
   "source": []
  },
  {
   "cell_type": "code",
   "execution_count": null,
   "id": "4d3fd313-50a9-40d5-8f55-a0be9604e255",
   "metadata": {},
   "outputs": [],
   "source": []
  }
 ],
 "metadata": {
  "kernelspec": {
   "display_name": "Python 3 (ipykernel)",
   "language": "python",
   "name": "python3"
  },
  "language_info": {
   "codemirror_mode": {
    "name": "ipython",
    "version": 3
   },
   "file_extension": ".py",
   "mimetype": "text/x-python",
   "name": "python",
   "nbconvert_exporter": "python",
   "pygments_lexer": "ipython3",
   "version": "3.10.4"
  }
 },
 "nbformat": 4,
 "nbformat_minor": 5
}
