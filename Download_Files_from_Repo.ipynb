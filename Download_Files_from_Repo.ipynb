{
 "cells": [
  {
   "cell_type": "code",
   "execution_count": 1,
   "metadata": {},
   "outputs": [],
   "source": [
    "import os\n",
    "import requests\n",
    "import glob"
   ]
  },
  {
   "cell_type": "code",
   "execution_count": 2,
   "metadata": {},
   "outputs": [],
   "source": [
    "def download_file_from_git(fName, path_git, path_save):\n",
    "    try:\n",
    "        os.makedirs(path_save)\n",
    "    except:\n",
    "        pass\n",
    "    url_git = \"https://raw.githubusercontent.com\"\n",
    "    link = f\"{url_git}/sierraporta/data_science_course_UTB/main/{path_git}/{fName}\"\n",
    "    res = requests.get(link)\n",
    "    fout = path_save+'/'+fName\n",
    "    if os.path.exists(fout):\n",
    "        rep = int(input(\"Replace files? 1: Yes, 0: NO\"))\n",
    "    else:\n",
    "        rep = 1\n",
    "    if rep==1:\n",
    "        with open(fout, \"wb\") as fo:\n",
    "            fo.write(res.content)\n",
    "            print(fout)\n",
    "    return res"
   ]
  },
  {
   "cell_type": "code",
   "execution_count": 3,
   "metadata": {},
   "outputs": [],
   "source": [
    "def download_files(path_git, files, path_save):\n",
    "    for f in files:\n",
    "        download_file_from_git(fName=f, path_git=path_git, path_save=path_save)\n",
    "    files = glob.glob(f\"{path_save}\\*\")\n",
    "    print(f\"\\n\\n{'*'*50}\\nFiles downloaded: {len(files)}\")\n"
   ]
  },
  {
   "cell_type": "code",
   "execution_count": 9,
   "metadata": {},
   "outputs": [],
   "source": [
    "path_git,det=\"Clase 8\",\"Regressions\"\n",
    "path_save=f\"{path_git} - {det}\"\n",
    "files = ['Regresiones_ML.ipynb']"
   ]
  },
  {
   "cell_type": "code",
   "execution_count": 10,
   "metadata": {},
   "outputs": [
    {
     "name": "stdout",
     "output_type": "stream",
     "text": [
      "Clase7 - Regressions/Regresiones_ML.ipynb\n",
      "\n",
      "\n",
      "**************************************************\n",
      "Files downloaded: 1\n"
     ]
    }
   ],
   "source": [
    "download_files(path_git=path_git, files=files, path_save=path_save)"
   ]
  },
  {
   "cell_type": "markdown",
   "metadata": {},
   "source": [
    "# GitPython\n",
    "\n",
    "! pip install GitPython"
   ]
  },
  {
   "cell_type": "code",
   "execution_count": 1,
   "metadata": {},
   "outputs": [
    {
     "name": "stdout",
     "output_type": "stream",
     "text": [
      "Collecting GitPython\n",
      "  Downloading GitPython-3.1.27-py3-none-any.whl (181 kB)\n",
      "     -------------------------------------- 181.2/181.2 KB 1.1 MB/s eta 0:00:00\n",
      "Collecting gitdb<5,>=4.0.1\n",
      "  Downloading gitdb-4.0.9-py3-none-any.whl (63 kB)\n",
      "     ---------------------------------------- 63.1/63.1 KB 1.7 MB/s eta 0:00:00\n",
      "Collecting smmap<6,>=3.0.1\n",
      "  Downloading smmap-5.0.0-py3-none-any.whl (24 kB)\n",
      "Installing collected packages: smmap, gitdb, GitPython\n",
      "Successfully installed GitPython-3.1.27 gitdb-4.0.9 smmap-5.0.0\n"
     ]
    },
    {
     "name": "stderr",
     "output_type": "stream",
     "text": [
      "WARNING: You are using pip version 22.0.4; however, version 22.1.2 is available.\n",
      "You should consider upgrading via the 'C:\\Python\\py39\\python.exe -m pip install --upgrade pip' command.\n"
     ]
    }
   ],
   "source": [
    "!pip install GitPython"
   ]
  },
  {
   "cell_type": "code",
   "execution_count": 2,
   "metadata": {},
   "outputs": [],
   "source": [
    "import git"
   ]
  },
  {
   "cell_type": "code",
   "execution_count": 3,
   "metadata": {},
   "outputs": [],
   "source": [
    "from git.repo.base import Repo"
   ]
  },
  {
   "cell_type": "code",
   "execution_count": 10,
   "metadata": {},
   "outputs": [
    {
     "data": {
      "text/plain": [
       "'data_science_course_UTB/'"
      ]
     },
     "execution_count": 10,
     "metadata": {},
     "output_type": "execute_result"
    }
   ],
   "source": [
    "git_path = \"https://github.com/sierraporta/data_science_course_UTB.git\"\n",
    "out_path = git_path.split('/')[-1].split('.')[0] + '/'\n",
    "out_path"
   ]
  },
  {
   "cell_type": "code",
   "execution_count": 12,
   "metadata": {},
   "outputs": [
    {
     "ename": "GitCommandError",
     "evalue": "Cmd('git') failed due to: exit code(128)\n  cmdline: git clone -v https://github.com/sierraporta/data_science_course_UTB.git data_science_course_UTB/\n  stderr: 'Cloning into 'data_science_course_UTB'...\nPOST git-upload-pack (185 bytes)\nPOST git-upload-pack (227 bytes)\nerror: invalid path 'Clase3/1*2hGMrCjLtVKtOKD_QnyuWA.png'\nfatal: unable to checkout working tree\nwarning: Clone succeeded, but checkout failed.\nYou can inspect what was checked out with 'git status'\nand retry with 'git restore --source=HEAD :/'\n\n'",
     "output_type": "error",
     "traceback": [
      "\u001b[1;31m---------------------------------------------------------------------------\u001b[0m",
      "\u001b[1;31mGitCommandError\u001b[0m                           Traceback (most recent call last)",
      "\u001b[1;32md:\\dherrera\\OneDrive - Universidad Tecnológica de Bolívar\\Asignaturas\\07. METODOS ESTADISTICOS AVANZADOS\\Download_Files_from_Repo.ipynb Cell 11'\u001b[0m in \u001b[0;36m<cell line: 1>\u001b[1;34m()\u001b[0m\n\u001b[1;32m----> <a href='vscode-notebook-cell:/d%3A/dherrera/OneDrive%20-%20Universidad%20Tecnol%C3%B3gica%20de%20Bol%C3%ADvar/Asignaturas/07.%20METODOS%20ESTADISTICOS%20AVANZADOS/Download_Files_from_Repo.ipynb#ch0000017?line=0'>1</a>\u001b[0m repo \u001b[39m=\u001b[39m Repo\u001b[39m.\u001b[39;49mclone_from(git_path, out_path\n\u001b[0;32m      <a href='vscode-notebook-cell:/d%3A/dherrera/OneDrive%20-%20Universidad%20Tecnol%C3%B3gica%20de%20Bol%C3%ADvar/Asignaturas/07.%20METODOS%20ESTADISTICOS%20AVANZADOS/Download_Files_from_Repo.ipynb#ch0000017?line=1'>2</a>\u001b[0m     \u001b[39m# branch='master'\u001b[39;49;00m\n\u001b[0;32m      <a href='vscode-notebook-cell:/d%3A/dherrera/OneDrive%20-%20Universidad%20Tecnol%C3%B3gica%20de%20Bol%C3%ADvar/Asignaturas/07.%20METODOS%20ESTADISTICOS%20AVANZADOS/Download_Files_from_Repo.ipynb#ch0000017?line=2'>3</a>\u001b[0m )\n",
      "File \u001b[1;32mc:\\Python\\py39\\lib\\site-packages\\git\\repo\\base.py:1148\u001b[0m, in \u001b[0;36mRepo.clone_from\u001b[1;34m(cls, url, to_path, progress, env, multi_options, **kwargs)\u001b[0m\n\u001b[0;32m   <a href='file:///c%3A/Python/py39/lib/site-packages/git/repo/base.py?line=1145'>1146</a>\u001b[0m \u001b[39mif\u001b[39;00m env \u001b[39mis\u001b[39;00m \u001b[39mnot\u001b[39;00m \u001b[39mNone\u001b[39;00m:\n\u001b[0;32m   <a href='file:///c%3A/Python/py39/lib/site-packages/git/repo/base.py?line=1146'>1147</a>\u001b[0m     git\u001b[39m.\u001b[39mupdate_environment(\u001b[39m*\u001b[39m\u001b[39m*\u001b[39menv)\n\u001b[1;32m-> <a href='file:///c%3A/Python/py39/lib/site-packages/git/repo/base.py?line=1147'>1148</a>\u001b[0m \u001b[39mreturn\u001b[39;00m \u001b[39mcls\u001b[39m\u001b[39m.\u001b[39m_clone(git, url, to_path, GitCmdObjectDB, progress, multi_options, \u001b[39m*\u001b[39m\u001b[39m*\u001b[39mkwargs)\n",
      "File \u001b[1;32mc:\\Python\\py39\\lib\\site-packages\\git\\repo\\base.py:1086\u001b[0m, in \u001b[0;36mRepo._clone\u001b[1;34m(cls, git, url, path, odb_default_type, progress, multi_options, **kwargs)\u001b[0m\n\u001b[0;32m   <a href='file:///c%3A/Python/py39/lib/site-packages/git/repo/base.py?line=1082'>1083</a>\u001b[0m     cmdline \u001b[39m=\u001b[39m remove_password_if_present(cmdline)\n\u001b[0;32m   <a href='file:///c%3A/Python/py39/lib/site-packages/git/repo/base.py?line=1084'>1085</a>\u001b[0m     log\u001b[39m.\u001b[39mdebug(\u001b[39m\"\u001b[39m\u001b[39mCmd(\u001b[39m\u001b[39m%s\u001b[39;00m\u001b[39m)\u001b[39m\u001b[39m'\u001b[39m\u001b[39ms unused stdout: \u001b[39m\u001b[39m%s\u001b[39;00m\u001b[39m\"\u001b[39m, cmdline, stdout)\n\u001b[1;32m-> <a href='file:///c%3A/Python/py39/lib/site-packages/git/repo/base.py?line=1085'>1086</a>\u001b[0m     finalize_process(proc, stderr\u001b[39m=\u001b[39;49mstderr)\n\u001b[0;32m   <a href='file:///c%3A/Python/py39/lib/site-packages/git/repo/base.py?line=1087'>1088</a>\u001b[0m \u001b[39m# our git command could have a different working dir than our actual\u001b[39;00m\n\u001b[0;32m   <a href='file:///c%3A/Python/py39/lib/site-packages/git/repo/base.py?line=1088'>1089</a>\u001b[0m \u001b[39m# environment, hence we prepend its working dir if required\u001b[39;00m\n\u001b[0;32m   <a href='file:///c%3A/Python/py39/lib/site-packages/git/repo/base.py?line=1089'>1090</a>\u001b[0m \u001b[39mif\u001b[39;00m \u001b[39mnot\u001b[39;00m osp\u001b[39m.\u001b[39misabs(path):\n",
      "File \u001b[1;32mc:\\Python\\py39\\lib\\site-packages\\git\\util.py:386\u001b[0m, in \u001b[0;36mfinalize_process\u001b[1;34m(proc, **kwargs)\u001b[0m\n\u001b[0;32m    <a href='file:///c%3A/Python/py39/lib/site-packages/git/util.py?line=383'>384</a>\u001b[0m \u001b[39m\"\"\"Wait for the process (clone, fetch, pull or push) and handle its errors accordingly\"\"\"\u001b[39;00m\n\u001b[0;32m    <a href='file:///c%3A/Python/py39/lib/site-packages/git/util.py?line=384'>385</a>\u001b[0m \u001b[39m# TODO: No close proc-streams??\u001b[39;00m\n\u001b[1;32m--> <a href='file:///c%3A/Python/py39/lib/site-packages/git/util.py?line=385'>386</a>\u001b[0m proc\u001b[39m.\u001b[39mwait(\u001b[39m*\u001b[39m\u001b[39m*\u001b[39mkwargs)\n",
      "File \u001b[1;32mc:\\Python\\py39\\lib\\site-packages\\git\\cmd.py:502\u001b[0m, in \u001b[0;36mGit.AutoInterrupt.wait\u001b[1;34m(self, stderr)\u001b[0m\n\u001b[0;32m    <a href='file:///c%3A/Python/py39/lib/site-packages/git/cmd.py?line=499'>500</a>\u001b[0m     errstr \u001b[39m=\u001b[39m read_all_from_possibly_closed_stream(p_stderr)\n\u001b[0;32m    <a href='file:///c%3A/Python/py39/lib/site-packages/git/cmd.py?line=500'>501</a>\u001b[0m     log\u001b[39m.\u001b[39mdebug(\u001b[39m'\u001b[39m\u001b[39mAutoInterrupt wait stderr: \u001b[39m\u001b[39m%r\u001b[39;00m\u001b[39m'\u001b[39m \u001b[39m%\u001b[39m (errstr,))\n\u001b[1;32m--> <a href='file:///c%3A/Python/py39/lib/site-packages/git/cmd.py?line=501'>502</a>\u001b[0m     \u001b[39mraise\u001b[39;00m GitCommandError(remove_password_if_present(\u001b[39mself\u001b[39m\u001b[39m.\u001b[39margs), status, errstr)\n\u001b[0;32m    <a href='file:///c%3A/Python/py39/lib/site-packages/git/cmd.py?line=502'>503</a>\u001b[0m \u001b[39mreturn\u001b[39;00m status\n",
      "\u001b[1;31mGitCommandError\u001b[0m: Cmd('git') failed due to: exit code(128)\n  cmdline: git clone -v https://github.com/sierraporta/data_science_course_UTB.git data_science_course_UTB/\n  stderr: 'Cloning into 'data_science_course_UTB'...\nPOST git-upload-pack (185 bytes)\nPOST git-upload-pack (227 bytes)\nerror: invalid path 'Clase3/1*2hGMrCjLtVKtOKD_QnyuWA.png'\nfatal: unable to checkout working tree\nwarning: Clone succeeded, but checkout failed.\nYou can inspect what was checked out with 'git status'\nand retry with 'git restore --source=HEAD :/'\n\n'"
     ]
    }
   ],
   "source": [
    "repo = Repo.clone_from(git_path, out_path\n",
    "    # branch='master'\n",
    ")"
   ]
  },
  {
   "cell_type": "code",
   "execution_count": 19,
   "metadata": {},
   "outputs": [],
   "source": [
    "import zipfile\n",
    "import requests\n",
    "import datetime"
   ]
  },
  {
   "cell_type": "code",
   "execution_count": 24,
   "metadata": {},
   "outputs": [
    {
     "name": "stdout",
     "output_type": "stream",
     "text": [
      "https://github.com/sierraporta/data_science_course_UTB/archive/refs/heads/main.zip data_science_course_UTB__20220627.zip\n"
     ]
    }
   ],
   "source": [
    "user,repo = \"sierraporta\",\"data_science_course_UTB\"\n",
    "git_zip = f\"https://github.com/{user}/{repo}/archive/refs/heads/main.zip\"\n",
    "f_out = f\"{repo}__{datetime.date.today().strftime('%Y%m%d')}.zip\"\n",
    "print(git_zip, f_out)"
   ]
  },
  {
   "cell_type": "code",
   "execution_count": 25,
   "metadata": {},
   "outputs": [],
   "source": [
    "with requests.get(git_zip) as res:\n",
    "    with open(f_out, \"wb\") as fo:\n",
    "        fo.write(res.content)"
   ]
  },
  {
   "cell_type": "code",
   "execution_count": 27,
   "metadata": {},
   "outputs": [],
   "source": [
    "with zipfile.ZipFile(f_out, 'r') as zip_ref:\n",
    "    zip_ref.extractall()"
   ]
  },
  {
   "cell_type": "code",
   "execution_count": null,
   "metadata": {},
   "outputs": [],
   "source": []
  }
 ],
 "metadata": {
  "interpreter": {
   "hash": "22e5dea1628f7e1c945df06b9a2434c5192832944f53cfc6bc7b26069c0c4ffd"
  },
  "kernelspec": {
   "display_name": "Python 3.9.10 64-bit",
   "language": "python",
   "name": "python3"
  },
  "language_info": {
   "codemirror_mode": {
    "name": "ipython",
    "version": 3
   },
   "file_extension": ".py",
   "mimetype": "text/x-python",
   "name": "python",
   "nbconvert_exporter": "python",
   "pygments_lexer": "ipython3",
   "version": "3.9.9"
  },
  "orig_nbformat": 4
 },
 "nbformat": 4,
 "nbformat_minor": 2
}
