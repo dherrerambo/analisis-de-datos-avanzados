{
 "cells": [
  {
   "cell_type": "code",
   "execution_count": 1,
   "metadata": {},
   "outputs": [],
   "source": [
    "import os\n",
    "import requests\n",
    "import glob"
   ]
  },
  {
   "cell_type": "code",
   "execution_count": 2,
   "metadata": {},
   "outputs": [],
   "source": [
    "def download_file_from_git(fName, path_git, path_save):\n",
    "    try:\n",
    "        os.makedirs(path_save)\n",
    "    except:\n",
    "        pass\n",
    "    url_git = \"https://raw.githubusercontent.com\"\n",
    "    link = f\"{url_git}/sierraporta/data_science_course_UTB/main/{path_git}/{fName}\"\n",
    "    res = requests.get(link)\n",
    "    fout = path_save+'/'+fName\n",
    "    if os.path.exists(fout):\n",
    "        rep = int(input(\"Replace files? 1: Yes, 0: NO\"))\n",
    "    else:\n",
    "        rep = 1\n",
    "    if rep==1:\n",
    "        with open(fout, \"wb\") as fo:\n",
    "            fo.write(res.content)\n",
    "            print(fout)\n",
    "    return res"
   ]
  },
  {
   "cell_type": "code",
   "execution_count": 6,
   "metadata": {},
   "outputs": [],
   "source": [
    "def download_files(path_git, files, path_save):\n",
    "    for f in files:\n",
    "        download_file_from_git(fName=f, path_git=path_git, path_save=path_save)\n",
    "    files = glob.glob(f\"{path_save}\\*\")\n",
    "    print(f\"\\n\\n{'*'*50}\\nFiles downloaded: {len(files)}\")\n"
   ]
  },
  {
   "cell_type": "code",
   "execution_count": 9,
   "metadata": {},
   "outputs": [],
   "source": [
    "path_git,det=\"Clase 7\",\"Regressions\"\n",
    "path_save=f\"{path_git} - {det}\"\n",
    "files = ['Regresiones_ML.ipynb']"
   ]
  },
  {
   "cell_type": "code",
   "execution_count": 10,
   "metadata": {},
   "outputs": [
    {
     "name": "stdout",
     "output_type": "stream",
     "text": [
      "Clase7 - Regressions/Regresiones_ML.ipynb\n",
      "\n",
      "\n",
      "**************************************************\n",
      "Files downloaded: 1\n"
     ]
    }
   ],
   "source": [
    "download_files(path_git=path_git, files=files, path_save=path_save)"
   ]
  },
  {
   "cell_type": "code",
   "execution_count": null,
   "metadata": {},
   "outputs": [],
   "source": []
  }
 ],
 "metadata": {
  "interpreter": {
   "hash": "22e5dea1628f7e1c945df06b9a2434c5192832944f53cfc6bc7b26069c0c4ffd"
  },
  "kernelspec": {
   "display_name": "Python 3.9.10 64-bit",
   "language": "python",
   "name": "python3"
  },
  "language_info": {
   "codemirror_mode": {
    "name": "ipython",
    "version": 3
   },
   "file_extension": ".py",
   "mimetype": "text/x-python",
   "name": "python",
   "nbconvert_exporter": "python",
   "pygments_lexer": "ipython3",
   "version": "3.9.10"
  },
  "orig_nbformat": 4
 },
 "nbformat": 4,
 "nbformat_minor": 2
}
