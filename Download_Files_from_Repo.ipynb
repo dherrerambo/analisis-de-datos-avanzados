{
 "cells": [
  {
   "cell_type": "code",
   "execution_count": 1,
   "metadata": {},
   "outputs": [],
   "source": [
    "import os\n",
    "import requests\n",
    "import glob"
   ]
  },
  {
   "cell_type": "code",
   "execution_count": 2,
   "metadata": {},
   "outputs": [],
   "source": [
    "def download_file_from_git(fName, path_git, path_save):\n",
    "    try:\n",
    "        os.makedirs(path_save)\n",
    "    except:\n",
    "        pass\n",
    "    url_git = \"https://raw.githubusercontent.com\"\n",
    "    link = f\"{url_git}/sierraporta/data_science_course_UTB/main/{path_git}/{fName}\"\n",
    "    res = requests.get(link)\n",
    "    fout = path_save+'/'+fName\n",
    "    with open(fout, \"wb\") as fo:\n",
    "        fo.write(res.content)\n",
    "        print(fout)\n",
    "    return res"
   ]
  },
  {
   "cell_type": "code",
   "execution_count": 3,
   "metadata": {},
   "outputs": [],
   "source": [
    "def download_files(path_git, files, path_save):\n",
    "    for f in files:\n",
    "        download_file_from_git(fName=f, path_git=path_git, path_save=path_save)\n",
    "    files = glob.glob(f\"{path_save}\\*\")\n",
    "    print(f\"\\n\\n{'*'*50}\\nFiles downloaded: {len(files)}\")\n"
   ]
  },
  {
   "cell_type": "code",
   "execution_count": 4,
   "metadata": {},
   "outputs": [],
   "source": [
    "path_git=\"Clase6\"\n",
    "path_save=\"Clase 6 - PCA\"\n",
    "files = ['PCA_a_mano.ipynb','PCA_introduction.ipynb','biplot_2d.png','biplot_3d.png','ionosphere.data','ionosphere.names','pcaplot_2d.png','pcaplot_3d.png','screeplot.png']"
   ]
  },
  {
   "cell_type": "code",
   "execution_count": 5,
   "metadata": {},
   "outputs": [
    {
     "name": "stdout",
     "output_type": "stream",
     "text": [
      "Clase 6 - PCA/PCA_a_mano.ipynb\n",
      "Clase 6 - PCA/PCA_introduction.ipynb\n",
      "Clase 6 - PCA/biplot_2d.png\n",
      "Clase 6 - PCA/biplot_3d.png\n",
      "Clase 6 - PCA/ionosphere.data\n",
      "Clase 6 - PCA/ionosphere.names\n",
      "Clase 6 - PCA/pcaplot_2d.png\n",
      "Clase 6 - PCA/pcaplot_3d.png\n",
      "Clase 6 - PCA/screeplot.png\n",
      "\n",
      "\n",
      "**************************************************\n",
      "Files downloaded: 9\n"
     ]
    }
   ],
   "source": [
    "download_files(path_git=path_git, files=files, path_save=\"Clase 6 - PCA\")"
   ]
  },
  {
   "cell_type": "code",
   "execution_count": null,
   "metadata": {},
   "outputs": [],
   "source": []
  }
 ],
 "metadata": {
  "interpreter": {
   "hash": "22e5dea1628f7e1c945df06b9a2434c5192832944f53cfc6bc7b26069c0c4ffd"
  },
  "kernelspec": {
   "display_name": "Python 3.9.10 64-bit",
   "language": "python",
   "name": "python3"
  },
  "language_info": {
   "codemirror_mode": {
    "name": "ipython",
    "version": 3
   },
   "file_extension": ".py",
   "mimetype": "text/x-python",
   "name": "python",
   "nbconvert_exporter": "python",
   "pygments_lexer": "ipython3",
   "version": "3.9.10"
  },
  "orig_nbformat": 4
 },
 "nbformat": 4,
 "nbformat_minor": 2
}
