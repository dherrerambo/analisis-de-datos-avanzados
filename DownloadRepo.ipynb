{
 "cells": [
  {
   "cell_type": "code",
   "execution_count": 1,
   "metadata": {},
   "outputs": [],
   "source": [
    "import os\n",
    "import requests"
   ]
  },
  {
   "cell_type": "code",
   "execution_count": 2,
   "metadata": {},
   "outputs": [],
   "source": [
    "def download_files_from_git(fName, path):\n",
    "    try:\n",
    "        os.makedirs(path)\n",
    "    except:\n",
    "        pass\n",
    "    url_git = \"https://raw.githubusercontent.com\"\n",
    "    link = f\"{url_git}/sierraporta/data_science_course_UTB/main/Clase6/{fName}\"\n",
    "    res = requests.get(link)\n",
    "    fout = path+'/'+f\n",
    "    with open(fout, \"wb\") as fo:\n",
    "        fo.write(res.content)\n",
    "        print(fout)\n",
    "    return res"
   ]
  },
  {
   "cell_type": "code",
   "execution_count": 3,
   "metadata": {},
   "outputs": [],
   "source": [
    "files = ['PCA_a_mano.ipynb','PCA_introduction.ipynb','biplot_2d.png','biplot_3d.png','ionosphere.data','ionosphere.names','pcaplot_2d.png','pcaplot_3d.png','screeplot.png']"
   ]
  },
  {
   "cell_type": "code",
   "execution_count": 4,
   "metadata": {},
   "outputs": [
    {
     "name": "stdout",
     "output_type": "stream",
     "text": [
      "Clase 6 - PCA/PCA_a_mano.ipynb\n",
      "Clase 6 - PCA/PCA_introduction.ipynb\n",
      "Clase 6 - PCA/biplot_2d.png\n",
      "Clase 6 - PCA/biplot_3d.png\n",
      "Clase 6 - PCA/ionosphere.data\n",
      "Clase 6 - PCA/ionosphere.names\n",
      "Clase 6 - PCA/pcaplot_2d.png\n",
      "Clase 6 - PCA/pcaplot_3d.png\n",
      "Clase 6 - PCA/screeplot.png\n"
     ]
    }
   ],
   "source": [
    "for f in files:\n",
    "    download_files_from_git(f, \"Clase 6 - PCA\")"
   ]
  },
  {
   "cell_type": "code",
   "execution_count": null,
   "metadata": {},
   "outputs": [],
   "source": []
  }
 ],
 "metadata": {
  "interpreter": {
   "hash": "22e5dea1628f7e1c945df06b9a2434c5192832944f53cfc6bc7b26069c0c4ffd"
  },
  "kernelspec": {
   "display_name": "Python 3.9.10 64-bit",
   "language": "python",
   "name": "python3"
  },
  "language_info": {
   "codemirror_mode": {
    "name": "ipython",
    "version": 3
   },
   "file_extension": ".py",
   "mimetype": "text/x-python",
   "name": "python",
   "nbconvert_exporter": "python",
   "pygments_lexer": "ipython3",
   "version": "3.9.10"
  },
  "orig_nbformat": 4
 },
 "nbformat": 4,
 "nbformat_minor": 2
}
